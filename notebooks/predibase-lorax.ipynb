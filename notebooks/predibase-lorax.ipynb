{
 "cells": [
  {
   "cell_type": "code",
   "execution_count": 5,
   "metadata": {},
   "outputs": [
    {
     "name": "stdout",
     "output_type": "stream",
     "text": [
      "Prompt: [INST] Natalia sold clips to 48 of her friends in April, and then she sold half as many clips in May. How many clips did Natalia sell altogether in April and May? [/INST]\n",
      "Response: Natalia sold 48 clips in April. She sold half as many clips in May, which means she sold 48/2 = 24 clips in May.\n",
      "\n",
      "To find out how many clips Natalia sold altogether in April and May, we add the number of clips\n",
      "----------------------------------------------------------------------------------------------------\n",
      "Prompt: [INST] Natalia sold clips to 48 of her friends in April, and then she sold half as many clips in May. How many clips did Natalia sell altogether in April and May? [/INST]\n",
      "Response: Natalia sold 48/2 = <<48/2=24>>24 clips in May.\n",
      "In total, Natalia sold 48 + 24 = <<48+24=72>>72 clips in April and May.\n",
      "----------------------------------------------------------------------------------------------------\n",
      "Prompt: [INST] Write a SQL query to answer the question based on the table schema.\n",
      "\n",
      " context: CREATE TABLE table_name_74 (icao VARCHAR, airport VARCHAR)\n",
      "\n",
      " question: Name the ICAO for lilongwe international airport [/INST]\n",
      "Response: SELECT icao FROM table_name_74 WHERE airport = 'lilongwe international airport';\n",
      "----------------------------------------------------------------------------------------------------\n",
      "Prompt: [INST] What is the central theme of the poem 'Wyze: Princesse Miouwet?'[/INST]\n",
      "Response: The central theme of the poem is the love of the princess.\n",
      "\n",
      "WYZE: Princesse Miouwet,\n",
      "Mais vous m'avez voué,\n",
      "Princesse Miouwet,\n",
      "Mais vous m'avez voué,\n",
      "A vous m'en voue.\n",
      "\n",
      "PRINCESSE MIouwet,\n",
      "Vous m'avez voué,\n",
      "A vous m'en voue,\n",
      "Vous m'avez voué,\n",
      "A vous m'en voue.\n",
      "\n",
      "Mais vous m\n",
      "----------------------------------------------------------------------------------------------------\n"
     ]
    }
   ],
   "source": [
    "from lorax import Client\n",
    "\n",
    "client = Client(\"http://127.0.0.1:8080\")\n",
    "\n",
    "# Prompt the base LLM\n",
    "prompt = \"[INST] Natalia sold clips to 48 of her friends in April, and then she sold half as many clips in May. How many clips did Natalia sell altogether in April and May? [/INST]\"\n",
    "print(f\"Prompt: {prompt}\")\n",
    "print(\"Response:\",end=\" \")\n",
    "print(client.generate(prompt, max_new_tokens=64).generated_text)\n",
    "print(\"-\"*100)\n",
    "\n",
    "# Prompt a LoRA adapter\n",
    "prompt = \"[INST] Natalia sold clips to 48 of her friends in April, and then she sold half as many clips in May. How many clips did Natalia sell altogether in April and May? [/INST]\"\n",
    "adapter_1 = \"vineetsharma/qlora-adapter-Mistral-7B-Instruct-v0.1-gsm8k\"\n",
    "print(f\"Prompt: {prompt}\")\n",
    "print(\"Response:\",end=\" \")\n",
    "print(client.generate(prompt, max_new_tokens=64, adapter_id=adapter_1).generated_text)\n",
    "print(\"-\"*100)\n",
    "\n",
    "\n",
    "# Prompt a LoRA adapter\n",
    "prompt = \"[INST] Write a SQL query to answer the question based on the table schema.\\n\\n context: CREATE TABLE table_name_74 (icao VARCHAR, airport VARCHAR)\\n\\n question: Name the ICAO for lilongwe international airport [/INST]\"\n",
    "adapter_2 = \"ai2sql/ai2sql_mistral_7b\"\n",
    "print(f\"Prompt: {prompt}\")\n",
    "print(\"Response:\",end=\" \")\n",
    "print(client.generate(prompt, max_new_tokens=128, adapter_id=adapter_2).generated_text)\n",
    "print(\"-\"*100)\n",
    "\n",
    "# Prompt a LoRA adapter\n",
    "prompt = \"[INST] What is the central theme of the poem 'Wyze: Princesse Miouwet?'[/INST]\"\n",
    "adapter_3 = \"jvdgoltz/Mistral-7B-dbnl-v0.1\"\n",
    "print(f\"Prompt: {prompt}\")\n",
    "print(\"Response:\",end=\" \")\n",
    "print(client.generate(prompt, max_new_tokens=128, adapter_id=adapter_3).generated_text)\n",
    "print(\"-\"*100)\n",
    "\n"
   ]
  }
 ],
 "metadata": {
  "kernelspec": {
   "display_name": ".venv",
   "language": "python",
   "name": "python3"
  },
  "language_info": {
   "codemirror_mode": {
    "name": "ipython",
    "version": 3
   },
   "file_extension": ".py",
   "mimetype": "text/x-python",
   "name": "python",
   "nbconvert_exporter": "python",
   "pygments_lexer": "ipython3",
   "version": "3.10.12"
  }
 },
 "nbformat": 4,
 "nbformat_minor": 2
}
